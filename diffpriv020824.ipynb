{
 "cells": [
  {
   "cell_type": "markdown",
   "id": "5172f2eb-ce34-4b51-9117-e7783cb7462b",
   "metadata": {},
   "source": [
    "Loading of diffpriv library"
   ]
  },
  {
   "cell_type": "code",
   "execution_count": 29,
   "id": "de6715c1-4991-4287-8a2b-901ad7198ce4",
   "metadata": {},
   "outputs": [
    {
     "name": "stdout",
     "output_type": "stream",
     "text": [
      "Requirement already satisfied: pandas in /Library/Frameworks/Python.framework/Versions/3.10/lib/python3.10/site-packages (1.5.3)\n",
      "Requirement already satisfied: diffprivlib in /Library/Frameworks/Python.framework/Versions/3.10/lib/python3.10/site-packages (0.6.4)\n",
      "Requirement already satisfied: python-dateutil>=2.8.1 in /Library/Frameworks/Python.framework/Versions/3.10/lib/python3.10/site-packages (from pandas) (2.9.0.post0)\n",
      "Requirement already satisfied: pytz>=2020.1 in /Library/Frameworks/Python.framework/Versions/3.10/lib/python3.10/site-packages (from pandas) (2024.1)\n",
      "Requirement already satisfied: numpy>=1.21.0 in /Library/Frameworks/Python.framework/Versions/3.10/lib/python3.10/site-packages (from pandas) (1.26.4)\n",
      "Requirement already satisfied: scikit-learn>=0.24.2 in /Library/Frameworks/Python.framework/Versions/3.10/lib/python3.10/site-packages (from diffprivlib) (1.4.1.post1)\n",
      "Requirement already satisfied: scipy>=1.7.3 in /Library/Frameworks/Python.framework/Versions/3.10/lib/python3.10/site-packages (from diffprivlib) (1.11.4)\n",
      "Requirement already satisfied: joblib>=0.16.0 in /Library/Frameworks/Python.framework/Versions/3.10/lib/python3.10/site-packages (from diffprivlib) (1.3.2)\n",
      "Requirement already satisfied: setuptools>=49.0.0 in /Library/Frameworks/Python.framework/Versions/3.10/lib/python3.10/site-packages (from diffprivlib) (65.5.0)\n",
      "Requirement already satisfied: six>=1.5 in /Library/Frameworks/Python.framework/Versions/3.10/lib/python3.10/site-packages (from python-dateutil>=2.8.1->pandas) (1.16.0)\n",
      "Requirement already satisfied: threadpoolctl>=2.0.0 in /Library/Frameworks/Python.framework/Versions/3.10/lib/python3.10/site-packages (from scikit-learn>=0.24.2->diffprivlib) (3.4.0)\n",
      "\n",
      "\u001b[1m[\u001b[0m\u001b[34;49mnotice\u001b[0m\u001b[1;39;49m]\u001b[0m\u001b[39;49m A new release of pip is available: \u001b[0m\u001b[31;49m24.0\u001b[0m\u001b[39;49m -> \u001b[0m\u001b[32;49m24.2\u001b[0m\n",
      "\u001b[1m[\u001b[0m\u001b[34;49mnotice\u001b[0m\u001b[1;39;49m]\u001b[0m\u001b[39;49m To update, run: \u001b[0m\u001b[32;49mpip install --upgrade pip\u001b[0m\n",
      "Note: you may need to restart the kernel to use updated packages.\n"
     ]
    }
   ],
   "source": [
    "pip install pandas diffprivlib"
   ]
  },
  {
   "cell_type": "code",
   "execution_count": 30,
   "id": "100b8b1e-18a1-4c37-809d-0c86b7924418",
   "metadata": {},
   "outputs": [],
   "source": [
    "\n",
    "# Set a seed for reproducibility\n",
    "seed = 42\n",
    "np.random.seed(seed)"
   ]
  },
  {
   "cell_type": "markdown",
   "id": "7bb74925-a6be-4b1d-95d2-86bd30ddc4d4",
   "metadata": {},
   "source": [
    "# DP for Knn5"
   ]
  },
  {
   "cell_type": "markdown",
   "id": "6995c75f-099a-4ab3-9d20-b87b830fea58",
   "metadata": {},
   "source": [
    "## Import data"
   ]
  },
  {
   "cell_type": "code",
   "execution_count": 31,
   "id": "381e460b-e830-4580-8871-209f416da2bc",
   "metadata": {},
   "outputs": [
    {
     "name": "stdout",
     "output_type": "stream",
     "text": [
      "   haplotype  cyp3A5D  age_r  sexe_r  age_d  sexe_d  rejet_aigu   TIF  event  \\\n",
      "0          2        2     74       1     52       2           2  1020      1   \n",
      "1          2        2     64       2     41       2           2   825      1   \n",
      "2          3        1     47       2     23       2           1  1020      1   \n",
      "3          2        1     42       2     44       2           2   827      1   \n",
      "4          2        2     53       2     30       2           2  1245      1   \n",
      "\n",
      "   delai_event  \n",
      "0        10.21  \n",
      "1         5.78  \n",
      "2         3.91  \n",
      "3         3.27  \n",
      "4         6.79  \n"
     ]
    }
   ],
   "source": [
    "import pandas as pd\n",
    "\n",
    "# Load datasets\n",
    "real_data = pd.read_csv(\"/Users/woillp01/Documents/avatar/original1.csv\")  \n",
    "# Supprimer la première colonne\n",
    "real_data = real_data.iloc[:, 1:]\n",
    "\n",
    "# Afficher les premières lignes du DataFrame pour vérifier\n",
    "print(real_data.head())\n",
    "synthetic_data = pd.read_csv(\"/Users/woillp01/Documents/avatar/avatar_sfpt_knn5.csv\")\n"
   ]
  },
  {
   "cell_type": "markdown",
   "id": "f5e5c138-b25d-4ffb-951b-eecbabbba455",
   "metadata": {},
   "source": [
    "A posteriori calculation of DP by comparing the mean of each original variable with noise to the mean of original data and the mean of synthetic data"
   ]
  },
  {
   "cell_type": "code",
   "execution_count": 32,
   "id": "56a77efc-844b-4bbe-a930-04cf662b81b2",
   "metadata": {},
   "outputs": [
    {
     "name": "stdout",
     "output_type": "stream",
     "text": [
      "              Real Means     DP Means  Synthetic Means\n",
      "haplotype       1.747036    -1.714043         1.695652\n",
      "cyp3A5D         1.833992    -1.627086         1.857708\n",
      "age_r          53.841897    50.380819        53.061821\n",
      "sexe_r          1.616601    -1.844478         1.644269\n",
      "age_d          38.494071    35.032993        39.036469\n",
      "sexe_d          1.687747    -1.773331         1.731225\n",
      "rejet_aigu      1.320158    -2.140920         1.288538\n",
      "TIF          1198.683794  1195.222716      1192.784208\n",
      "event           0.086957    -3.374122         0.083004\n",
      "delai_event     6.043636     2.582558         5.732521\n"
     ]
    }
   ],
   "source": [
    "import numpy as np\n",
    "import pandas as pd\n",
    "from diffprivlib.mechanisms import Laplace\n",
    "\n",
    "\n",
    "\n",
    "# Define the differential privacy mechanism\n",
    "def apply_dp_mechanism(data, epsilon, sensitivity, seed):\n",
    "    laplace_mech = Laplace(epsilon=epsilon, sensitivity=sensitivity, random_state=seed)\n",
    "    return laplace_mech.randomise(data)\n",
    "\n",
    "\n",
    "\n",
    "# Calculate means for real data\n",
    "real_means = real_data.mean()\n",
    "\n",
    "# Apply differential privacy mechanism to the means\n",
    "epsilon = 0.25\n",
    "sensitivity = 1.0\n",
    "dp_means = real_means.apply(lambda x: apply_dp_mechanism(x, epsilon, sensitivity, seed))\n",
    "\n",
    "# Compare DP means with synthetic data means\n",
    "synthetic_means = synthetic_data.mean()\n",
    "comparison = pd.DataFrame({\n",
    "    'Real Means': real_means,\n",
    "    'DP Means': dp_means,\n",
    "    'Synthetic Means': synthetic_means\n",
    "})\n",
    "\n",
    "print(comparison)\n"
   ]
  },
  {
   "cell_type": "raw",
   "id": "6886f806-05bf-43da-9471-9e46ecf4031f",
   "metadata": {},
   "source": [
    "Interpretation\n",
    "Noise Addition (DP Means):\n",
    "\n",
    "The DP means are significantly different from the real means in some cases, reflecting the noise added to protect privacy.\n",
    "Comparison with Synthetic Means:\n",
    "The synthetic means should ideally be close to the real means, but they are not constrained to be as close as DP means.\n",
    "It shows that DP by adding noise increase privacy but lead ot a too strong loss of utility in our example\n"
   ]
  },
  {
   "cell_type": "markdown",
   "id": "9ca93909-4829-4996-bfa9-84998b7a4465",
   "metadata": {},
   "source": [
    "# DP for Knn10"
   ]
  },
  {
   "cell_type": "code",
   "execution_count": 33,
   "id": "97274664-bc43-4b19-bc4c-85ae9c11794e",
   "metadata": {},
   "outputs": [
    {
     "name": "stdout",
     "output_type": "stream",
     "text": [
      "              Real Means     DP Means  Synthetic Means\n",
      "haplotype       1.747036    -1.714043         1.687747\n",
      "cyp3A5D         1.833992    -1.627086         1.865613\n",
      "age_r          53.841897    50.380819        53.722518\n",
      "sexe_r          1.616601    -1.844478         1.652174\n",
      "age_d          38.494071    35.032993        38.511128\n",
      "sexe_d          1.687747    -1.773331         1.743083\n",
      "rejet_aigu      1.320158    -2.140920         1.284585\n",
      "TIF          1198.683794  1195.222716      1167.633970\n",
      "event           0.086957    -3.374122         0.079051\n",
      "delai_event     6.043636     2.582558         5.940295\n"
     ]
    }
   ],
   "source": [
    "#data loading\n",
    "import pandas as pd\n",
    "\n",
    "# Load datasets\n",
    "real_data = pd.read_csv(\"/Users/woillp01/Documents/avatar/original1.csv\")  \n",
    "# Remove first column\n",
    "real_data = real_data.iloc[:, 1:]\n",
    "\n",
    "synthetic_data = pd.read_csv(\"/Users/woillp01/Documents/avatar/avatar_sfpt_knn10.csv\")\n",
    "\n",
    "# DP calculation\n",
    "import numpy as np\n",
    "import pandas as pd\n",
    "from diffprivlib.mechanisms import Laplace\n",
    "\n",
    "# Define the differential privacy mechanism\n",
    "def apply_dp_mechanism(data, epsilon, sensitivity, seed):\n",
    "    laplace_mech = Laplace(epsilon=epsilon, sensitivity=sensitivity, random_state=seed)\n",
    "    return laplace_mech.randomise(data)\n",
    "\n",
    "# Calculate means for real data\n",
    "real_means = real_data.mean()\n",
    "\n",
    "# Apply differential privacy mechanism to the means\n",
    "epsilon = 0.25\n",
    "sensitivity = 1.0\n",
    "dp_means = real_means.apply(lambda x: apply_dp_mechanism(x, epsilon, sensitivity, seed))\n",
    "\n",
    "# Compare DP means with synthetic data means\n",
    "synthetic_means = synthetic_data.mean()\n",
    "comparison = pd.DataFrame({\n",
    "    'Real Means': real_means,\n",
    "    'DP Means': dp_means,\n",
    "    'Synthetic Means': synthetic_means\n",
    "})\n",
    "\n",
    "print(comparison)"
   ]
  },
  {
   "cell_type": "markdown",
   "id": "7c7d7800-8936-4481-b10f-497ceb893935",
   "metadata": {},
   "source": [
    "# DP for knn 20"
   ]
  },
  {
   "cell_type": "code",
   "execution_count": 34,
   "id": "d3240460-5120-4f69-b770-4fb0c7d9a1c0",
   "metadata": {},
   "outputs": [
    {
     "name": "stdout",
     "output_type": "stream",
     "text": [
      "              Real Means     DP Means  Synthetic Means\n",
      "haplotype       1.747036    -1.714043         1.747036\n",
      "cyp3A5D         1.833992    -1.627086         1.885375\n",
      "age_r          53.841897    50.380819        53.696154\n",
      "sexe_r          1.616601    -1.844478         1.703557\n",
      "age_d          38.494071    35.032993        39.032298\n",
      "sexe_d          1.687747    -1.773331         1.743083\n",
      "rejet_aigu      1.320158    -2.140920         1.249012\n",
      "TIF          1198.683794  1195.222716      1148.523837\n",
      "event           0.086957    -3.374122         0.051383\n",
      "delai_event     6.043636     2.582558         5.741523\n"
     ]
    }
   ],
   "source": [
    "import pandas as pd\n",
    "\n",
    "# Load datasets\n",
    "real_data = pd.read_csv(\"/Users/woillp01/Documents/avatar/original1.csv\")  \n",
    "# Remove first column\n",
    "real_data = real_data.iloc[:, 1:]\n",
    "\n",
    "synthetic_data = pd.read_csv(\"/Users/woillp01/Documents/avatar/avatar_sfpt_knn20.csv\")\n",
    "# DP calculation\n",
    "import numpy as np\n",
    "import pandas as pd\n",
    "from diffprivlib.mechanisms import Laplace\n",
    "\n",
    "# Define the differential privacy mechanism\n",
    "def apply_dp_mechanism(data, epsilon, sensitivity, seed):\n",
    "    laplace_mech = Laplace(epsilon=epsilon, sensitivity=sensitivity, random_state=seed)\n",
    "    return laplace_mech.randomise(data)\n",
    "\n",
    "# Calculate means for real data\n",
    "real_means = real_data.mean()\n",
    "\n",
    "# Apply differential privacy mechanism to the means\n",
    "epsilon = 0.25\n",
    "sensitivity = 1.0\n",
    "dp_means = real_means.apply(lambda x: apply_dp_mechanism(x, epsilon, sensitivity, seed))\n",
    "\n",
    "# Compare DP means with synthetic data means\n",
    "synthetic_means = synthetic_data.mean()\n",
    "comparison = pd.DataFrame({\n",
    "    'Real Means': real_means,\n",
    "    'DP Means': dp_means,\n",
    "    'Synthetic Means': synthetic_means\n",
    "})\n",
    "\n",
    "print(comparison)"
   ]
  },
  {
   "cell_type": "markdown",
   "id": "b22d71e9-e5d9-4dac-bcdf-15f5760388a9",
   "metadata": {},
   "source": [
    "# DP for knn 5 augmented"
   ]
  },
  {
   "cell_type": "code",
   "execution_count": 35,
   "id": "3b66d4bf-fe9d-4c2a-bb50-8213f30aa3ad",
   "metadata": {},
   "outputs": [
    {
     "name": "stdout",
     "output_type": "stream",
     "text": [
      "              Real Means     DP Means  Synthetic Means\n",
      "haplotype       1.747036    -1.714043         1.692688\n",
      "cyp3A5D         1.833992    -1.627086         1.848814\n",
      "age_r          53.841897    50.380819        53.574555\n",
      "sexe_r          1.616601    -1.844478         1.648221\n",
      "age_d          38.494071    35.032993        39.287164\n",
      "sexe_d          1.687747    -1.773331         1.708498\n",
      "rejet_aigu      1.320158    -2.140920         1.290514\n",
      "TIF          1198.683794  1195.222716      1174.559821\n",
      "event           0.086957    -3.374122         0.084980\n",
      "delai_event     6.043636     2.582558         5.841787\n"
     ]
    }
   ],
   "source": [
    "import pandas as pd\n",
    "\n",
    "# Load datasets\n",
    "real_data = pd.read_csv(\"/Users/woillp01/Documents/avatar/original1.csv\")  \n",
    "# Remove first column\n",
    "real_data = real_data.iloc[:, 1:]\n",
    "\n",
    "synthetic_data = pd.read_csv(\"/Users/woillp01/Documents/avatar/avatar_sfpt_knn5_data_augmented.csv\")\n",
    "# DP calculation\n",
    "import numpy as np\n",
    "import pandas as pd\n",
    "from diffprivlib.mechanisms import Laplace\n",
    "\n",
    "# Define the differential privacy mechanism\n",
    "def apply_dp_mechanism(data, epsilon, sensitivity, seed):\n",
    "    laplace_mech = Laplace(epsilon=epsilon, sensitivity=sensitivity, random_state=seed)\n",
    "    return laplace_mech.randomise(data)\n",
    "\n",
    "# Calculate means for real data\n",
    "real_means = real_data.mean()\n",
    "\n",
    "# Apply differential privacy mechanism to the means\n",
    "epsilon = 0.25\n",
    "sensitivity = 1.0\n",
    "dp_means = real_means.apply(lambda x: apply_dp_mechanism(x, epsilon, sensitivity, seed))\n",
    "\n",
    "# Compare DP means with synthetic data means\n",
    "synthetic_means = synthetic_data.mean()\n",
    "comparison = pd.DataFrame({\n",
    "    'Real Means': real_means,\n",
    "    'DP Means': dp_means,\n",
    "    'Synthetic Means': synthetic_means\n",
    "})\n",
    "\n",
    "print(comparison)"
   ]
  },
  {
   "cell_type": "markdown",
   "id": "2ae64448-1b46-4cc5-8a13-c19cddaefda5",
   "metadata": {},
   "source": [
    "# DP for knn 10 augmented"
   ]
  },
  {
   "cell_type": "code",
   "execution_count": 36,
   "id": "904dd930-519b-4f72-8bc0-4cc4a4dcc626",
   "metadata": {},
   "outputs": [
    {
     "name": "stdout",
     "output_type": "stream",
     "text": [
      "              Real Means     DP Means  Synthetic Means\n",
      "haplotype       1.747036    -1.714043         1.701581\n",
      "cyp3A5D         1.833992    -1.627086         1.869565\n",
      "age_r          53.841897    50.380819        53.529660\n",
      "sexe_r          1.616601    -1.844478         1.658103\n",
      "age_d          38.494071    35.032993        38.805739\n",
      "sexe_d          1.687747    -1.773331         1.734190\n",
      "rejet_aigu      1.320158    -2.140920         1.272727\n",
      "TIF          1198.683794  1195.222716      1163.008379\n",
      "event           0.086957    -3.374122         0.079051\n",
      "delai_event     6.043636     2.582558         5.754492\n"
     ]
    }
   ],
   "source": [
    "import pandas as pd\n",
    "\n",
    "# Load datasets\n",
    "real_data = pd.read_csv(\"/Users/woillp01/Documents/avatar/original1.csv\")  \n",
    "# Remove first column\n",
    "real_data = real_data.iloc[:, 1:]\n",
    "\n",
    "synthetic_data = pd.read_csv(\"/Users/woillp01/Documents/avatar/avatar_sfpt_knn10_data_augmented.csv\")\n",
    "# DP calculation\n",
    "import numpy as np\n",
    "import pandas as pd\n",
    "from diffprivlib.mechanisms import Laplace\n",
    "\n",
    "# Define the differential privacy mechanism\n",
    "def apply_dp_mechanism(data, epsilon, sensitivity, seed):\n",
    "    laplace_mech = Laplace(epsilon=epsilon, sensitivity=sensitivity, random_state=seed)\n",
    "    return laplace_mech.randomise(data)\n",
    "\n",
    "# Calculate means for real data\n",
    "real_means = real_data.mean()\n",
    "\n",
    "# Apply differential privacy mechanism to the means\n",
    "epsilon = 0.25\n",
    "sensitivity = 1.0\n",
    "dp_means = real_means.apply(lambda x: apply_dp_mechanism(x, epsilon, sensitivity, seed))\n",
    "\n",
    "# Compare DP means with synthetic data means\n",
    "synthetic_means = synthetic_data.mean()\n",
    "comparison = pd.DataFrame({\n",
    "    'Real Means': real_means,\n",
    "    'DP Means': dp_means,\n",
    "    'Synthetic Means': synthetic_means\n",
    "})\n",
    "\n",
    "print(comparison)"
   ]
  },
  {
   "cell_type": "markdown",
   "id": "84084d4a-0fc1-4f15-ae60-60da7d2bfd73",
   "metadata": {},
   "source": [
    "# DP for knn 20 augmented"
   ]
  },
  {
   "cell_type": "code",
   "execution_count": 37,
   "id": "15f871fb-3cc4-4167-88fb-667189e7f5b6",
   "metadata": {},
   "outputs": [
    {
     "name": "stdout",
     "output_type": "stream",
     "text": [
      "              Real Means     DP Means  Synthetic Means\n",
      "haplotype       1.747036    -1.714043         1.711462\n",
      "cyp3A5D         1.833992    -1.627086         1.898221\n",
      "age_r          53.841897    50.380819        53.802207\n",
      "sexe_r          1.616601    -1.844478         1.691700\n",
      "age_d          38.494071    35.032993        39.120854\n",
      "sexe_d          1.687747    -1.773331         1.734190\n",
      "rejet_aigu      1.320158    -2.140920         1.241107\n",
      "TIF          1198.683794  1195.222716      1162.857131\n",
      "event           0.086957    -3.374122         0.054348\n",
      "delai_event     6.043636     2.582558         5.674817\n"
     ]
    }
   ],
   "source": [
    "import pandas as pd\n",
    "\n",
    "# Load datasets\n",
    "real_data = pd.read_csv(\"/Users/woillp01/Documents/avatar/original1.csv\")  \n",
    "# Remove first column\n",
    "real_data = real_data.iloc[:, 1:]\n",
    "\n",
    "synthetic_data = pd.read_csv(\"/Users/woillp01/Documents/avatar/avatar_sfpt_knn20_data_augmented.csv\")\n",
    "# DP calculation\n",
    "import numpy as np\n",
    "import pandas as pd\n",
    "from diffprivlib.mechanisms import Laplace\n",
    "\n",
    "# Define the differential privacy mechanism\n",
    "def apply_dp_mechanism(data, epsilon, sensitivity, seed):\n",
    "    laplace_mech = Laplace(epsilon=epsilon, sensitivity=sensitivity, random_state=seed)\n",
    "    return laplace_mech.randomise(data)\n",
    "\n",
    "# Calculate means for real data\n",
    "real_means = real_data.mean()\n",
    "\n",
    "# Apply differential privacy mechanism to the means\n",
    "epsilon = 0.25\n",
    "sensitivity = 1.0\n",
    "dp_means = real_means.apply(lambda x: apply_dp_mechanism(x, epsilon, sensitivity, seed))\n",
    "\n",
    "# Compare DP means with synthetic data means\n",
    "synthetic_means = synthetic_data.mean()\n",
    "comparison = pd.DataFrame({\n",
    "    'Real Means': real_means,\n",
    "    'DP Means': dp_means,\n",
    "    'Synthetic Means': synthetic_means\n",
    "})\n",
    "\n",
    "print(comparison)"
   ]
  },
  {
   "cell_type": "markdown",
   "id": "1a7d811b-4f7e-4a12-8e81-c820e639fe86",
   "metadata": {},
   "source": [
    "# DP for survae"
   ]
  },
  {
   "cell_type": "code",
   "execution_count": 38,
   "id": "f93e2674-03a2-4c03-8529-4131afdcd3a4",
   "metadata": {},
   "outputs": [
    {
     "name": "stdout",
     "output_type": "stream",
     "text": [
      "              Real Means     DP Means  Synthetic Means\n",
      "haplotype       1.747036    -1.714043         1.861660\n",
      "cyp3A5D         1.833992    -1.627086         1.940711\n",
      "age_r          53.841897    50.380819        53.490119\n",
      "sexe_r          1.616601    -1.844478         1.644269\n",
      "age_d          38.494071    35.032993        32.968379\n",
      "sexe_d          1.687747    -1.773331         1.778656\n",
      "rejet_aigu      1.320158    -2.140920         1.292490\n",
      "TIF          1198.683794  1195.222716      1065.664032\n",
      "event           0.086957    -3.374122         0.055336\n",
      "delai_event     6.043636     2.582558         6.307029\n"
     ]
    }
   ],
   "source": [
    "\n",
    "# Load datasets\n",
    "real_data = pd.read_csv(\"/Users/woillp01/Documents/avatar/original1.csv\")\n",
    "# Remove first column\n",
    "real_data = real_data.iloc[:, 1:]\n",
    "\n",
    "synthetic_data = pd.read_csv(\"/Users/woillp01/Documents/avatar/sfpt24_survae_data_v240111.dat\")\n",
    "\n",
    "# Ensure synthetic data has the same columns as real data\n",
    "synthetic_data = synthetic_data[real_data.columns]\n",
    "\n",
    "# DP calculation\n",
    "import numpy as np\n",
    "import pandas as pd\n",
    "from diffprivlib.mechanisms import Laplace\n",
    "\n",
    "# Define the differential privacy mechanism\n",
    "def apply_dp_mechanism(data, epsilon, sensitivity, seed):\n",
    "    laplace_mech = Laplace(epsilon=epsilon, sensitivity=sensitivity, random_state=seed)\n",
    "    return laplace_mech.randomise(data)\n",
    "\n",
    "# Calculate means for real data\n",
    "real_means = real_data.mean()\n",
    "\n",
    "# Apply differential privacy mechanism to the means\n",
    "epsilon = 0.25\n",
    "sensitivity = 1.0\n",
    "dp_means = real_means.apply(lambda x: apply_dp_mechanism(x, epsilon, sensitivity, seed))\n",
    "\n",
    "# Compare DP means with synthetic data means\n",
    "synthetic_means = synthetic_data.mean()\n",
    "comparison = pd.DataFrame({\n",
    "    'Real Means': real_means,\n",
    "    'DP Means': dp_means,\n",
    "    'Synthetic Means': synthetic_means\n",
    "})\n",
    "\n",
    "print(comparison)\n"
   ]
  },
  {
   "cell_type": "markdown",
   "id": "9d13d0b2-1fea-4186-8798-c24e51d0f3c6",
   "metadata": {},
   "source": [
    "# DP for surctgan"
   ]
  },
  {
   "cell_type": "code",
   "execution_count": 39,
   "id": "47bd4dcc-3770-44cc-9836-3237ebc84713",
   "metadata": {},
   "outputs": [
    {
     "name": "stdout",
     "output_type": "stream",
     "text": [
      "              Real Means     DP Means  Synthetic Means\n",
      "haplotype       1.747036    -1.714043         1.952569\n",
      "cyp3A5D         1.833992    -1.627086         1.913043\n",
      "age_r          53.841897    50.380819        64.312253\n",
      "sexe_r          1.616601    -1.844478         1.671937\n",
      "age_d          38.494071    35.032993        41.071146\n",
      "sexe_d          1.687747    -1.773331         1.754941\n",
      "rejet_aigu      1.320158    -2.140920         1.316206\n",
      "TIF          1198.683794  1195.222716      1065.644269\n",
      "event           0.086957    -3.374122         0.106719\n",
      "delai_event     6.043636     2.582558         5.676418\n"
     ]
    }
   ],
   "source": [
    "\n",
    "# Load datasets\n",
    "real_data = pd.read_csv(\"/Users/woillp01/Documents/avatar/original1.csv\")\n",
    "# Remove first column\n",
    "real_data = real_data.iloc[:, 1:]\n",
    "\n",
    "synthetic_data = pd.read_csv(\"/Users/woillp01/Documents/avatar/sfpt24_survctgan_data_v240111.dat\")\n",
    "\n",
    "# Ensure synthetic data has the same columns as real data\n",
    "synthetic_data = synthetic_data[real_data.columns]\n",
    "\n",
    "# DP calculation\n",
    "import numpy as np\n",
    "import pandas as pd\n",
    "from diffprivlib.mechanisms import Laplace\n",
    "\n",
    "# Define the differential privacy mechanism\n",
    "def apply_dp_mechanism(data, epsilon, sensitivity, seed):\n",
    "    laplace_mech = Laplace(epsilon=epsilon, sensitivity=sensitivity, random_state=seed)\n",
    "    return laplace_mech.randomise(data)\n",
    "\n",
    "# Calculate means for real data\n",
    "real_means = real_data.mean()\n",
    "\n",
    "# Apply differential privacy mechanism to the means\n",
    "epsilon = 0.25\n",
    "sensitivity = 1.0\n",
    "dp_means = real_means.apply(lambda x: apply_dp_mechanism(x, epsilon, sensitivity, seed))\n",
    "\n",
    "# Compare DP means with synthetic data means\n",
    "synthetic_means = synthetic_data.mean()\n",
    "comparison = pd.DataFrame({\n",
    "    'Real Means': real_means,\n",
    "    'DP Means': dp_means,\n",
    "    'Synthetic Means': synthetic_means\n",
    "})\n",
    "\n",
    "print(comparison)\n"
   ]
  },
  {
   "cell_type": "markdown",
   "id": "ba100c79-6f06-4bb2-83e3-e9cefb196644",
   "metadata": {},
   "source": [
    "# DP for survae augmented"
   ]
  },
  {
   "cell_type": "code",
   "execution_count": 40,
   "id": "2d2ae986-4856-4573-b38f-6ffe697761a6",
   "metadata": {},
   "outputs": [
    {
     "name": "stdout",
     "output_type": "stream",
     "text": [
      "              Real Means     DP Means  Synthetic Means\n",
      "haplotype       1.747036    -1.714043         1.861660\n",
      "cyp3A5D         1.833992    -1.627086         1.957510\n",
      "age_r          53.841897    50.380819        53.637352\n",
      "sexe_r          1.616601    -1.844478         1.639328\n",
      "age_d          38.494071    35.032993        33.437747\n",
      "sexe_d          1.687747    -1.773331         1.780632\n",
      "rejet_aigu      1.320158    -2.140920         1.285573\n",
      "TIF          1198.683794  1195.222716      1069.594862\n",
      "event           0.086957    -3.374122         0.052372\n",
      "delai_event     6.043636     2.582558         6.398476\n"
     ]
    }
   ],
   "source": [
    "# Load datasets\n",
    "real_data = pd.read_csv(\"/Users/woillp01/Documents/avatar/original1.csv\")\n",
    "# Remove first column\n",
    "real_data = real_data.iloc[:, 1:]\n",
    "\n",
    "synthetic_data = pd.read_csv(\"/Users/woillp01/Documents/avatar/sfpt24_survae_data_large_v240111.dat\")\n",
    "\n",
    "# Ensure synthetic data has the same columns as real data\n",
    "synthetic_data = synthetic_data[real_data.columns]\n",
    "\n",
    "# DP calculation\n",
    "import numpy as np\n",
    "import pandas as pd\n",
    "from diffprivlib.mechanisms import Laplace\n",
    "\n",
    "# Define the differential privacy mechanism\n",
    "def apply_dp_mechanism(data, epsilon, sensitivity, seed):\n",
    "    laplace_mech = Laplace(epsilon=epsilon, sensitivity=sensitivity, random_state=seed)\n",
    "    return laplace_mech.randomise(data)\n",
    "\n",
    "# Calculate means for real data\n",
    "real_means = real_data.mean()\n",
    "\n",
    "# Apply differential privacy mechanism to the means\n",
    "epsilon = 0.25\n",
    "sensitivity = 1.0\n",
    "dp_means = real_means.apply(lambda x: apply_dp_mechanism(x, epsilon, sensitivity, seed))\n",
    "\n",
    "# Compare DP means with synthetic data means\n",
    "synthetic_means = synthetic_data.mean()\n",
    "comparison = pd.DataFrame({\n",
    "    'Real Means': real_means,\n",
    "    'DP Means': dp_means,\n",
    "    'Synthetic Means': synthetic_means\n",
    "})\n",
    "\n",
    "print(comparison)\n"
   ]
  },
  {
   "cell_type": "markdown",
   "id": "21dc99f1-1eb4-40bc-b6e2-4bdd4b6a7e40",
   "metadata": {},
   "source": [
    "# DP for survctgan augmented"
   ]
  },
  {
   "cell_type": "code",
   "execution_count": 41,
   "id": "1736ba7d-9c4c-4ee6-ad23-98d19784ae93",
   "metadata": {},
   "outputs": [
    {
     "name": "stdout",
     "output_type": "stream",
     "text": [
      "              Real Means     DP Means  Synthetic Means\n",
      "haplotype       1.747036    -1.714043         1.844862\n",
      "cyp3A5D         1.833992    -1.627086         1.830040\n",
      "age_r          53.841897    50.380819        51.893281\n",
      "sexe_r          1.616601    -1.844478         1.642292\n",
      "age_d          38.494071    35.032993        31.986166\n",
      "sexe_d          1.687747    -1.773331         1.713439\n",
      "rejet_aigu      1.320158    -2.140920         1.327075\n",
      "TIF          1198.683794  1195.222716      1020.774704\n",
      "event           0.086957    -3.374122         0.135375\n",
      "delai_event     6.043636     2.582558         6.025934\n"
     ]
    }
   ],
   "source": [
    "# Load datasets\n",
    "real_data = pd.read_csv(\"/Users/woillp01/Documents/avatar/original1.csv\")\n",
    "# Remove first column\n",
    "real_data = real_data.iloc[:, 1:]\n",
    "\n",
    "synthetic_data = pd.read_csv(\"/Users/woillp01/Documents/avatar/sfpt24_survctgan_data_large_v240111.dat\")\n",
    "\n",
    "# Ensure synthetic data has the same columns as real data\n",
    "synthetic_data = synthetic_data[real_data.columns]\n",
    "\n",
    "# DP calculation\n",
    "import numpy as np\n",
    "import pandas as pd\n",
    "from diffprivlib.mechanisms import Laplace\n",
    "\n",
    "# Define the differential privacy mechanism\n",
    "def apply_dp_mechanism(data, epsilon, sensitivity, seed):\n",
    "    laplace_mech = Laplace(epsilon=epsilon, sensitivity=sensitivity, random_state=seed)\n",
    "    return laplace_mech.randomise(data)\n",
    "\n",
    "# Calculate means for real data\n",
    "real_means = real_data.mean()\n",
    "\n",
    "# Apply differential privacy mechanism to the means\n",
    "epsilon = 0.25\n",
    "sensitivity = 1.0\n",
    "dp_means = real_means.apply(lambda x: apply_dp_mechanism(x, epsilon, sensitivity, seed))\n",
    "\n",
    "# Compare DP means with synthetic data means\n",
    "synthetic_means = synthetic_data.mean()\n",
    "comparison = pd.DataFrame({\n",
    "    'Real Means': real_means,\n",
    "    'DP Means': dp_means,\n",
    "    'Synthetic Means': synthetic_means\n",
    "})\n",
    "\n",
    "print(comparison)"
   ]
  },
  {
   "cell_type": "code",
   "execution_count": null,
   "id": "badbf030-197a-4a99-8336-e2943b04b387",
   "metadata": {},
   "outputs": [],
   "source": []
  }
 ],
 "metadata": {
  "kernelspec": {
   "display_name": "Python 3 (ipykernel)",
   "language": "python",
   "name": "python3"
  },
  "language_info": {
   "codemirror_mode": {
    "name": "ipython",
    "version": 3
   },
   "file_extension": ".py",
   "mimetype": "text/x-python",
   "name": "python",
   "nbconvert_exporter": "python",
   "pygments_lexer": "ipython3",
   "version": "3.10.11"
  }
 },
 "nbformat": 4,
 "nbformat_minor": 5
}
